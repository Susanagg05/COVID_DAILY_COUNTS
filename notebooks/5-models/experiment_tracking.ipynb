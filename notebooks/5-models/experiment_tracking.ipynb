{
 "cells": [
  {
   "cell_type": "markdown",
   "id": "1fe556d3",
   "metadata": {},
   "source": [
    "# 🧪 **Experiment Tracking con Hopsworks – Predicción COVID-19**"
   ]
  },
  {
   "cell_type": "markdown",
   "id": "05fd100b",
   "metadata": {},
   "source": [
    "## 📚 **Importar librerías**"
   ]
  },
  {
   "cell_type": "code",
   "execution_count": 11,
   "id": "cbf89d71",
   "metadata": {},
   "outputs": [],
   "source": [
    "from pathlib import Path\n",
    "from datetime import datetime\n",
    "import os\n",
    "import sys\n",
    "import warnings\n",
    "\n",
    "import mlflow\n",
    "import mlflow.sklearn\n",
    "import pandas as pd\n",
    "import numpy as np\n",
    "from joblib import dump\n",
    "from mlflow.models import infer_signature\n",
    "from sklearn.metrics import mean_squared_error, r2_score\n",
    "from sklearn.model_selection import train_test_split\n",
    "from sklearn.ensemble import RandomForestRegressor\n",
    "from sklearn.impute import SimpleImputer\n",
    "from sklearn.pipeline import Pipeline\n",
    "from sklearn.compose import ColumnTransformer\n",
    "from sklearn.preprocessing import StandardScaler\n",
    "\n",
    "import hopsworks\n",
    "\n",
    "from sklearn.model_selection import GridSearchCV"
   ]
  },
  {
   "cell_type": "code",
   "execution_count": 3,
   "id": "01097eb8",
   "metadata": {},
   "outputs": [],
   "source": [
    "# Ruta al proyecto raíz (2 niveles arriba del notebook)\n",
    "_PROJECT_ROOT = Path(\"/workspaces/COVID_DAILY_COUNTS\")\n",
    "SRC_PATH = _PROJECT_ROOT / \"src\"\n",
    "\n",
    "# Agregar src al path si no está\n",
    "if str(SRC_PATH) not in sys.path:\n",
    "    sys.path.insert(0, str(SRC_PATH))\n",
    "\n",
    "# Ahora sí puedes importar\n",
    "from config import HopsworksSettings\n",
    "\n",
    "# Cargar configuración desde .env\n",
    "settings = HopsworksSettings(_env_file=_PROJECT_ROOT / \".env\")"
   ]
  },
  {
   "cell_type": "markdown",
   "id": "7eccbeb8",
   "metadata": {},
   "source": [
    "## 💾 **Conexión con Hopsworks y carga de datos**"
   ]
  },
  {
   "cell_type": "code",
   "execution_count": 5,
   "id": "e0c220e4",
   "metadata": {},
   "outputs": [
    {
     "name": "stdout",
     "output_type": "stream",
     "text": [
      "2025-06-03 17:08:46,281 INFO: Closing external client and cleaning up certificates.\n",
      "Connection closed.\n",
      "2025-06-03 17:08:46,287 INFO: Initializing external client\n",
      "2025-06-03 17:08:46,288 INFO: Base URL: https://c.app.hopsworks.ai:443\n",
      "2025-06-03 17:08:46,920 INFO: Python Engine initialized.\n",
      "\n",
      "Logged in to project, explore it here https://c.app.hopsworks.ai:443/p/1234082\n"
     ]
    }
   ],
   "source": [
    "# Configurar acceso\n",
    "warnings.filterwarnings(\"ignore\")\n",
    "\n",
    "project = hopsworks.login(\n",
    "    host=settings.HOPSWORKS_HOST,\n",
    "    project=settings.HOPSWORKS_PROJECT,\n",
    "    api_key_value=settings.HOPSWORKS_API_KEY.get_secret_value()\n",
    ")\n",
    "\n",
    "fs = project.get_feature_store()\n",
    "\n",
    "covid_fg = fs.get_feature_group(name=\"covid_daily_counts\", version=1)"
   ]
  },
  {
   "cell_type": "markdown",
   "id": "540b9fe2",
   "metadata": {},
   "source": [
    "## 👷 **Preparación de datos**"
   ]
  },
  {
   "cell_type": "code",
   "execution_count": 6,
   "metadata": {},
   "outputs": [],
   "source": [
    "query = covid_fg.select([\n",
    "    \"case_count\",\n",
    "    \"probable_case_count\",\n",
    "    \"hospitalized_count\",\n",
    "    \"case_count_7day_avg\",\n",
    "    \"all_case_count_7day_avg\",\n",
    "    \"hosp_count_7day_avg\",\n",
    "    \"death_count_7day_avg\",\n",
    "    \"date_of_interest\",\n",
    "    \"death_count\"\n",
    "])\n",
    "\n",
    "feature_view = fs.get_or_create_feature_view(\n",
    "    name=\"covid_death_fv\",\n",
    "    version=1,\n",
    "    description=\"Predicción de muertes por COVID-19\",\n",
    "    labels=[\"death_count\"],\n",
    "    query=query\n",
    ")"
   ]
  },
  {
   "cell_type": "markdown",
   "id": "ae4f3266",
   "metadata": {},
   "source": [
    "## 🧪 **Train / Test Split**"
   ]
  },
  {
   "cell_type": "code",
   "execution_count": 7,
   "id": "30398fd4",
   "metadata": {},
   "outputs": [
    {
     "name": "stdout",
     "output_type": "stream",
     "text": [
      "Finished: Reading data from Hopsworks, using Hopsworks Feature Query Service (0.43s) \n"
     ]
    }
   ],
   "source": [
    "# Dividir por fecha\n",
    "test_start = datetime.strptime(\"2022-02-01\", \"%Y-%m-%d\")\n",
    "X_train, X_test, y_train, y_test = feature_view.train_test_split(test_start=test_start)\n",
    "\n",
    "# Guardar fechas y limpiar columna\n",
    "fechas = X_test[\"date_of_interest\"].copy()\n",
    "X_train = X_train.drop(columns=[\"date_of_interest\"])\n",
    "X_test = X_test.drop(columns=[\"date_of_interest\"])"
   ]
  },
  {
   "cell_type": "markdown",
   "id": "a01cad0b",
   "metadata": {},
   "source": [
    "## 👨‍🏭 **Feature Engineering**"
   ]
  },
  {
   "cell_type": "code",
   "execution_count": 8,
   "id": "2cfb3c53",
   "metadata": {},
   "outputs": [],
   "source": [
    "# Solo columnas numéricas en este caso\n",
    "numeric_cols = X_train.columns.tolist()\n",
    "\n",
    "numeric_pipeline = Pipeline(steps=[\n",
    "    (\"imputer\", SimpleImputer(strategy=\"median\")),\n",
    "    (\"scaler\", StandardScaler())\n",
    "])\n",
    "\n",
    "preprocessor = ColumnTransformer(transformers=[\n",
    "    (\"num\", numeric_pipeline, numeric_cols)\n",
    "])"
   ]
  },
  {
   "cell_type": "markdown",
   "id": "7366e0be",
   "metadata": {},
   "source": [
    "## 🧠 **Pipeline de Modelo**"
   ]
  },
  {
   "cell_type": "code",
   "execution_count": 9,
   "metadata": {},
   "outputs": [],
   "source": [
    "model_pipeline = Pipeline(steps=[\n",
    "    (\"preprocessing\", preprocessor),\n",
    "    (\"model\", RandomForestRegressor(random_state=42))\n",
    "])"
   ]
  },
  {
   "cell_type": "markdown",
   "id": "80c0a85e",
   "metadata": {},
   "source": [
    "## **🔍 Hiperparámetros**"
   ]
  },
  {
   "cell_type": "code",
   "execution_count": 10,
   "id": "7dd69604",
   "metadata": {},
   "outputs": [],
   "source": [
    "param_grid = {\n",
    "    \"model__n_estimators\": [100, 150],\n",
    "    \"model__max_depth\": [5, 10, 15]\n",
    "}"
   ]
  },
  {
   "cell_type": "markdown",
   "id": "2c5f58ca",
   "metadata": {},
   "source": [
    "## 🔁 **Validación y entrenamiento**"
   ]
  },
  {
   "cell_type": "code",
   "execution_count": 13,
   "id": "caf2756d",
   "metadata": {},
   "outputs": [
    {
     "name": "stderr",
     "output_type": "stream",
     "text": [
      "/home/codespace/.local/lib/python3.12/site-packages/sklearn/base.py:1389: DataConversionWarning: A column-vector y was passed when a 1d array was expected. Please change the shape of y to (n_samples,), for example using ravel().\n",
      "  return fit_method(estimator, *args, **kwargs)\n",
      "/home/codespace/.local/lib/python3.12/site-packages/sklearn/base.py:1389: DataConversionWarning: A column-vector y was passed when a 1d array was expected. Please change the shape of y to (n_samples,), for example using ravel().\n",
      "  return fit_method(estimator, *args, **kwargs)\n",
      "/home/codespace/.local/lib/python3.12/site-packages/sklearn/base.py:1389: DataConversionWarning: A column-vector y was passed when a 1d array was expected. Please change the shape of y to (n_samples,), for example using ravel().\n",
      "  return fit_method(estimator, *args, **kwargs)\n",
      "/home/codespace/.local/lib/python3.12/site-packages/sklearn/base.py:1389: DataConversionWarning: A column-vector y was passed when a 1d array was expected. Please change the shape of y to (n_samples,), for example using ravel().\n",
      "  return fit_method(estimator, *args, **kwargs)\n",
      "/home/codespace/.local/lib/python3.12/site-packages/sklearn/base.py:1389: DataConversionWarning: A column-vector y was passed when a 1d array was expected. Please change the shape of y to (n_samples,), for example using ravel().\n",
      "  return fit_method(estimator, *args, **kwargs)\n",
      "/home/codespace/.local/lib/python3.12/site-packages/sklearn/base.py:1389: DataConversionWarning: A column-vector y was passed when a 1d array was expected. Please change the shape of y to (n_samples,), for example using ravel().\n",
      "  return fit_method(estimator, *args, **kwargs)\n",
      "/home/codespace/.local/lib/python3.12/site-packages/sklearn/base.py:1389: DataConversionWarning: A column-vector y was passed when a 1d array was expected. Please change the shape of y to (n_samples,), for example using ravel().\n",
      "  return fit_method(estimator, *args, **kwargs)\n",
      "/home/codespace/.local/lib/python3.12/site-packages/sklearn/base.py:1389: DataConversionWarning: A column-vector y was passed when a 1d array was expected. Please change the shape of y to (n_samples,), for example using ravel().\n",
      "  return fit_method(estimator, *args, **kwargs)\n",
      "/home/codespace/.local/lib/python3.12/site-packages/sklearn/base.py:1389: DataConversionWarning: A column-vector y was passed when a 1d array was expected. Please change the shape of y to (n_samples,), for example using ravel().\n",
      "  return fit_method(estimator, *args, **kwargs)\n",
      "/home/codespace/.local/lib/python3.12/site-packages/sklearn/base.py:1389: DataConversionWarning: A column-vector y was passed when a 1d array was expected. Please change the shape of y to (n_samples,), for example using ravel().\n",
      "  return fit_method(estimator, *args, **kwargs)\n",
      "/home/codespace/.local/lib/python3.12/site-packages/sklearn/base.py:1389: DataConversionWarning: A column-vector y was passed when a 1d array was expected. Please change the shape of y to (n_samples,), for example using ravel().\n",
      "  return fit_method(estimator, *args, **kwargs)\n",
      "/home/codespace/.local/lib/python3.12/site-packages/sklearn/base.py:1389: DataConversionWarning: A column-vector y was passed when a 1d array was expected. Please change the shape of y to (n_samples,), for example using ravel().\n",
      "  return fit_method(estimator, *args, **kwargs)\n",
      "/home/codespace/.local/lib/python3.12/site-packages/sklearn/base.py:1389: DataConversionWarning: A column-vector y was passed when a 1d array was expected. Please change the shape of y to (n_samples,), for example using ravel().\n",
      "  return fit_method(estimator, *args, **kwargs)\n",
      "/home/codespace/.local/lib/python3.12/site-packages/sklearn/base.py:1389: DataConversionWarning: A column-vector y was passed when a 1d array was expected. Please change the shape of y to (n_samples,), for example using ravel().\n",
      "  return fit_method(estimator, *args, **kwargs)\n",
      "/home/codespace/.local/lib/python3.12/site-packages/sklearn/base.py:1389: DataConversionWarning: A column-vector y was passed when a 1d array was expected. Please change the shape of y to (n_samples,), for example using ravel().\n",
      "  return fit_method(estimator, *args, **kwargs)\n",
      "/home/codespace/.local/lib/python3.12/site-packages/sklearn/base.py:1389: DataConversionWarning: A column-vector y was passed when a 1d array was expected. Please change the shape of y to (n_samples,), for example using ravel().\n",
      "  return fit_method(estimator, *args, **kwargs)\n",
      "/home/codespace/.local/lib/python3.12/site-packages/sklearn/base.py:1389: DataConversionWarning: A column-vector y was passed when a 1d array was expected. Please change the shape of y to (n_samples,), for example using ravel().\n",
      "  return fit_method(estimator, *args, **kwargs)\n",
      "/home/codespace/.local/lib/python3.12/site-packages/sklearn/base.py:1389: DataConversionWarning: A column-vector y was passed when a 1d array was expected. Please change the shape of y to (n_samples,), for example using ravel().\n",
      "  return fit_method(estimator, *args, **kwargs)\n",
      "/home/codespace/.local/lib/python3.12/site-packages/sklearn/base.py:1389: DataConversionWarning: A column-vector y was passed when a 1d array was expected. Please change the shape of y to (n_samples,), for example using ravel().\n",
      "  return fit_method(estimator, *args, **kwargs)\n",
      "/home/codespace/.local/lib/python3.12/site-packages/sklearn/base.py:1389: DataConversionWarning: A column-vector y was passed when a 1d array was expected. Please change the shape of y to (n_samples,), for example using ravel().\n",
      "  return fit_method(estimator, *args, **kwargs)\n",
      "/home/codespace/.local/lib/python3.12/site-packages/sklearn/base.py:1389: DataConversionWarning: A column-vector y was passed when a 1d array was expected. Please change the shape of y to (n_samples,), for example using ravel().\n",
      "  return fit_method(estimator, *args, **kwargs)\n",
      "/home/codespace/.local/lib/python3.12/site-packages/sklearn/base.py:1389: DataConversionWarning: A column-vector y was passed when a 1d array was expected. Please change the shape of y to (n_samples,), for example using ravel().\n",
      "  return fit_method(estimator, *args, **kwargs)\n",
      "/home/codespace/.local/lib/python3.12/site-packages/sklearn/base.py:1389: DataConversionWarning: A column-vector y was passed when a 1d array was expected. Please change the shape of y to (n_samples,), for example using ravel().\n",
      "  return fit_method(estimator, *args, **kwargs)\n",
      "/home/codespace/.local/lib/python3.12/site-packages/sklearn/base.py:1389: DataConversionWarning: A column-vector y was passed when a 1d array was expected. Please change the shape of y to (n_samples,), for example using ravel().\n",
      "  return fit_method(estimator, *args, **kwargs)\n",
      "/home/codespace/.local/lib/python3.12/site-packages/sklearn/base.py:1389: DataConversionWarning: A column-vector y was passed when a 1d array was expected. Please change the shape of y to (n_samples,), for example using ravel().\n",
      "  return fit_method(estimator, *args, **kwargs)\n",
      "/home/codespace/.local/lib/python3.12/site-packages/sklearn/base.py:1389: DataConversionWarning: A column-vector y was passed when a 1d array was expected. Please change the shape of y to (n_samples,), for example using ravel().\n",
      "  return fit_method(estimator, *args, **kwargs)\n",
      "/home/codespace/.local/lib/python3.12/site-packages/sklearn/base.py:1389: DataConversionWarning: A column-vector y was passed when a 1d array was expected. Please change the shape of y to (n_samples,), for example using ravel().\n",
      "  return fit_method(estimator, *args, **kwargs)\n",
      "/home/codespace/.local/lib/python3.12/site-packages/sklearn/base.py:1389: DataConversionWarning: A column-vector y was passed when a 1d array was expected. Please change the shape of y to (n_samples,), for example using ravel().\n",
      "  return fit_method(estimator, *args, **kwargs)\n",
      "/home/codespace/.local/lib/python3.12/site-packages/sklearn/base.py:1389: DataConversionWarning: A column-vector y was passed when a 1d array was expected. Please change the shape of y to (n_samples,), for example using ravel().\n",
      "  return fit_method(estimator, *args, **kwargs)\n",
      "/home/codespace/.local/lib/python3.12/site-packages/sklearn/base.py:1389: DataConversionWarning: A column-vector y was passed when a 1d array was expected. Please change the shape of y to (n_samples,), for example using ravel().\n",
      "  return fit_method(estimator, *args, **kwargs)\n"
     ]
    }
   ],
   "source": [
    "grid_search = GridSearchCV(\n",
    "    model_pipeline,\n",
    "    param_grid,\n",
    "    cv=5,\n",
    "    scoring=\"neg_root_mean_squared_error\",\n",
    "    n_jobs=-1\n",
    ")\n",
    "grid_search.fit(X_train, y_train)\n",
    "\n",
    "best_pipeline = grid_search.best_estimator_\n",
    "best_params = grid_search.best_params_"
   ]
  },
  {
   "cell_type": "markdown",
   "id": "5c71e367",
   "metadata": {},
   "source": [
    "## 📈 **Evaluación del modelo**"
   ]
  },
  {
   "cell_type": "code",
   "execution_count": 15,
   "id": "5be7ed49",
   "metadata": {},
   "outputs": [
    {
     "name": "stdout",
     "output_type": "stream",
     "text": [
      "RMSE: 3.19\n",
      "R²: 0.8643\n"
     ]
    }
   ],
   "source": [
    "y_pred = best_pipeline.predict(X_test)\n",
    "\n",
    "rmse = mean_squared_error(y_test, y_pred) ** 0.5\n",
    "r2 = r2_score(y_test, y_pred)\n",
    "\n",
    "print(f\"RMSE: {rmse:.2f}\")\n",
    "print(f\"R²: {r2:.4f}\")"
   ]
  },
  {
   "cell_type": "markdown",
   "id": "278ea0fd",
   "metadata": {},
   "source": [
    "## 🧪 **Seguimiento con MLflow**"
   ]
  },
  {
   "cell_type": "code",
   "execution_count": 16,
   "id": "0e481635",
   "metadata": {},
   "outputs": [
    {
     "name": "stderr",
     "output_type": "stream",
     "text": [
      "2025/06/03 17:15:34 INFO mlflow.tracking.fluent: Experiment with name 'covid_death_prediction' does not exist. Creating a new experiment.\n",
      "Successfully registered model 'covid_rf_model'.\n",
      "Created version '1' of model 'covid_rf_model'.\n"
     ]
    }
   ],
   "source": [
    "mlflow.set_tracking_uri(\"mlruns\")\n",
    "mlflow.set_experiment(\"covid_death_prediction\")\n",
    "\n",
    "with mlflow.start_run():\n",
    "    signature = infer_signature(X_train, best_pipeline.predict(X_train))\n",
    "\n",
    "    mlflow.set_tag(\"model_type\", \"RandomForestRegressor\")\n",
    "\n",
    "    mlflow.sklearn.log_model(\n",
    "        sk_model=best_pipeline,\n",
    "        artifact_path=\"covid_death_model\",\n",
    "        signature=signature,\n",
    "        input_example=X_train.head(),\n",
    "        registered_model_name=\"covid_rf_model\"\n",
    "    )\n",
    "\n",
    "    mlflow.log_metrics({\n",
    "        \"rmse\": rmse,\n",
    "        \"r2\": r2\n",
    "    })\n",
    "\n",
    "    mlflow.log_params(best_params)"
   ]
  },
  {
   "cell_type": "markdown",
   "id": "e7c62117",
   "metadata": {},
   "source": [
    "## **Grabar modelo con MLflow**"
   ]
  },
  {
   "cell_type": "code",
   "execution_count": null,
   "id": "e7d8951f",
   "metadata": {},
   "outputs": [
    {
     "data": {
      "text/plain": [
       "PosixPath('/workspaces/COVID_DAILY_COUNTS/models')"
      ]
     },
     "execution_count": 18,
     "metadata": {},
     "output_type": "execute_result"
    }
   ],
   "source": [
    "DATA_MODEL = _PROJECT_ROOT / \"models\"\n",
    "DATA_MODEL.mkdir(exist_ok=True)"
   ]
  },
  {
   "cell_type": "code",
   "execution_count": 19,
   "id": "29107c37",
   "metadata": {},
   "outputs": [],
   "source": [
    "mlflow.sklearn.save_model(\n",
    "    sk_model=best_pipeline,\n",
    "    path=DATA_MODEL / \"covid_rf_model_v1\",\n",
    "    signature=signature,\n",
    "    input_example=X_train.head()\n",
    ")"
   ]
  },
  {
   "cell_type": "markdown",
   "id": "3d282e3c",
   "metadata": {},
   "source": [
    "## **Cargar Modelo con MLflow**"
   ]
  },
  {
   "cell_type": "code",
   "execution_count": 22,
   "id": "31e44f9a",
   "metadata": {},
   "outputs": [
    {
     "name": "stdout",
     "output_type": "stream",
     "text": [
      "✅ Modelo cargado correctamente. Primeras predicciones:\n",
      "[ 7  2  4  4 12  5  4  3  3  6]\n"
     ]
    }
   ],
   "source": [
    "# Cargar modelo desde disco para validar que funciona\n",
    "loaded_model = mlflow.sklearn.load_model(model_uri=DATA_MODEL / \"covid_rf_model_v1\")\n",
    "\n",
    "# Validación rápida\n",
    "loaded_predictions = loaded_model.predict(X_test).astype(int)\n",
    "\n",
    "print(\"✅ Modelo cargado correctamente. Primeras predicciones:\")\n",
    "print(loaded_predictions[:10])"
   ]
  }
 ],
 "metadata": {
  "kernelspec": {
   "display_name": "Python 3",
   "language": "python",
   "name": "python3"
  },
  "language_info": {
   "codemirror_mode": {
    "name": "ipython",
    "version": 3
   },
   "file_extension": ".py",
   "mimetype": "text/x-python",
   "name": "python",
   "nbconvert_exporter": "python",
   "pygments_lexer": "ipython3",
   "version": "3.12.1"
  }
 },
 "nbformat": 4,
 "nbformat_minor": 5
}
